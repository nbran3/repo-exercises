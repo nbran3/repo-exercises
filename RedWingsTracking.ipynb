{
 "cells": [
  {
   "cell_type": "code",
   "execution_count": 10,
   "metadata": {},
   "outputs": [],
   "source": [
    "import pandas as pd\n",
    "import numpy as np\n",
    "import statsmodels.api as sm"
   ]
  },
  {
   "cell_type": "code",
   "execution_count": 11,
   "metadata": {},
   "outputs": [
    {
     "data": {
      "text/html": [
       "<div>\n",
       "<style scoped>\n",
       "    .dataframe tbody tr th:only-of-type {\n",
       "        vertical-align: middle;\n",
       "    }\n",
       "\n",
       "    .dataframe tbody tr th {\n",
       "        vertical-align: top;\n",
       "    }\n",
       "\n",
       "    .dataframe thead th {\n",
       "        text-align: right;\n",
       "    }\n",
       "</style>\n",
       "<table border=\"1\" class=\"dataframe\">\n",
       "  <thead>\n",
       "    <tr style=\"text-align: right;\">\n",
       "      <th></th>\n",
       "      <th>ClockState</th>\n",
       "      <th>UTCTime</th>\n",
       "      <th>Location.X</th>\n",
       "      <th>Location.Y</th>\n",
       "      <th>OnPlayingSurface</th>\n",
       "      <th>Period</th>\n",
       "      <th>player</th>\n",
       "    </tr>\n",
       "  </thead>\n",
       "  <tbody>\n",
       "    <tr>\n",
       "      <th>0</th>\n",
       "      <td>ClockStateStopped</td>\n",
       "      <td>1.677025e+09</td>\n",
       "      <td>-19.306206</td>\n",
       "      <td>46.000686</td>\n",
       "      <td>False</td>\n",
       "      <td>1</td>\n",
       "      <td>4</td>\n",
       "    </tr>\n",
       "    <tr>\n",
       "      <th>1</th>\n",
       "      <td>ClockStateRunning</td>\n",
       "      <td>1.677025e+09</td>\n",
       "      <td>-19.303114</td>\n",
       "      <td>46.029305</td>\n",
       "      <td>False</td>\n",
       "      <td>1</td>\n",
       "      <td>4</td>\n",
       "    </tr>\n",
       "    <tr>\n",
       "      <th>2</th>\n",
       "      <td>ClockStateRunning</td>\n",
       "      <td>1.677025e+09</td>\n",
       "      <td>-19.283734</td>\n",
       "      <td>46.080554</td>\n",
       "      <td>False</td>\n",
       "      <td>1</td>\n",
       "      <td>4</td>\n",
       "    </tr>\n",
       "    <tr>\n",
       "      <th>3</th>\n",
       "      <td>ClockStateRunning</td>\n",
       "      <td>1.677025e+09</td>\n",
       "      <td>-19.319893</td>\n",
       "      <td>46.091527</td>\n",
       "      <td>False</td>\n",
       "      <td>1</td>\n",
       "      <td>4</td>\n",
       "    </tr>\n",
       "    <tr>\n",
       "      <th>4</th>\n",
       "      <td>ClockStateRunning</td>\n",
       "      <td>1.677025e+09</td>\n",
       "      <td>-19.476785</td>\n",
       "      <td>45.394816</td>\n",
       "      <td>False</td>\n",
       "      <td>1</td>\n",
       "      <td>4</td>\n",
       "    </tr>\n",
       "    <tr>\n",
       "      <th>...</th>\n",
       "      <td>...</td>\n",
       "      <td>...</td>\n",
       "      <td>...</td>\n",
       "      <td>...</td>\n",
       "      <td>...</td>\n",
       "      <td>...</td>\n",
       "      <td>...</td>\n",
       "    </tr>\n",
       "    <tr>\n",
       "      <th>72871</th>\n",
       "      <td>ClockStateStopped</td>\n",
       "      <td>1.677026e+09</td>\n",
       "      <td>-28.875547</td>\n",
       "      <td>47.294990</td>\n",
       "      <td>False</td>\n",
       "      <td>1</td>\n",
       "      <td>3</td>\n",
       "    </tr>\n",
       "    <tr>\n",
       "      <th>72872</th>\n",
       "      <td>ClockStateStopped</td>\n",
       "      <td>1.677026e+09</td>\n",
       "      <td>-29.114467</td>\n",
       "      <td>47.187199</td>\n",
       "      <td>False</td>\n",
       "      <td>1</td>\n",
       "      <td>3</td>\n",
       "    </tr>\n",
       "    <tr>\n",
       "      <th>72873</th>\n",
       "      <td>ClockStateStopped</td>\n",
       "      <td>1.677026e+09</td>\n",
       "      <td>-31.704633</td>\n",
       "      <td>47.885755</td>\n",
       "      <td>False</td>\n",
       "      <td>1</td>\n",
       "      <td>3</td>\n",
       "    </tr>\n",
       "    <tr>\n",
       "      <th>72874</th>\n",
       "      <td>ClockStateStopped</td>\n",
       "      <td>1.677026e+09</td>\n",
       "      <td>-32.992853</td>\n",
       "      <td>47.061064</td>\n",
       "      <td>False</td>\n",
       "      <td>1</td>\n",
       "      <td>3</td>\n",
       "    </tr>\n",
       "    <tr>\n",
       "      <th>72875</th>\n",
       "      <td>ClockStateStopped</td>\n",
       "      <td>1.677026e+09</td>\n",
       "      <td>-34.277896</td>\n",
       "      <td>48.009053</td>\n",
       "      <td>False</td>\n",
       "      <td>1</td>\n",
       "      <td>3</td>\n",
       "    </tr>\n",
       "  </tbody>\n",
       "</table>\n",
       "<p>72876 rows × 7 columns</p>\n",
       "</div>"
      ],
      "text/plain": [
       "              ClockState       UTCTime  Location.X  Location.Y  \\\n",
       "0      ClockStateStopped  1.677025e+09  -19.306206   46.000686   \n",
       "1      ClockStateRunning  1.677025e+09  -19.303114   46.029305   \n",
       "2      ClockStateRunning  1.677025e+09  -19.283734   46.080554   \n",
       "3      ClockStateRunning  1.677025e+09  -19.319893   46.091527   \n",
       "4      ClockStateRunning  1.677025e+09  -19.476785   45.394816   \n",
       "...                  ...           ...         ...         ...   \n",
       "72871  ClockStateStopped  1.677026e+09  -28.875547   47.294990   \n",
       "72872  ClockStateStopped  1.677026e+09  -29.114467   47.187199   \n",
       "72873  ClockStateStopped  1.677026e+09  -31.704633   47.885755   \n",
       "72874  ClockStateStopped  1.677026e+09  -32.992853   47.061064   \n",
       "72875  ClockStateStopped  1.677026e+09  -34.277896   48.009053   \n",
       "\n",
       "       OnPlayingSurface  Period  player  \n",
       "0                 False       1       4  \n",
       "1                 False       1       4  \n",
       "2                 False       1       4  \n",
       "3                 False       1       4  \n",
       "4                 False       1       4  \n",
       "...                 ...     ...     ...  \n",
       "72871             False       1       3  \n",
       "72872             False       1       3  \n",
       "72873             False       1       3  \n",
       "72874             False       1       3  \n",
       "72875             False       1       3  \n",
       "\n",
       "[72876 rows x 7 columns]"
      ]
     },
     "execution_count": 11,
     "metadata": {},
     "output_type": "execute_result"
    }
   ],
   "source": [
    "df = pd.read_csv(r\"C:\\Users\\nbwan\\Downloads\\trackingData_v2.csv\")\n",
    "\n",
    "df"
   ]
  },
  {
   "cell_type": "code",
   "execution_count": 12,
   "metadata": {},
   "outputs": [],
   "source": [
    "df = df[df['OnPlayingSurface'] == True]"
   ]
  },
  {
   "cell_type": "code",
   "execution_count": 13,
   "metadata": {},
   "outputs": [
    {
     "name": "stderr",
     "output_type": "stream",
     "text": [
      "C:\\Users\\nbwan\\AppData\\Local\\Temp\\ipykernel_22144\\2070419629.py:1: SettingWithCopyWarning: \n",
      "A value is trying to be set on a copy of a slice from a DataFrame.\n",
      "Try using .loc[row_indexer,col_indexer] = value instead\n",
      "\n",
      "See the caveats in the documentation: https://pandas.pydata.org/pandas-docs/stable/user_guide/indexing.html#returning-a-view-versus-a-copy\n",
      "  df['Distance'] = np.sqrt((df['Location.X'].diff())**2 + (df['Location.Y'].diff())**2)\n",
      "C:\\Users\\nbwan\\AppData\\Local\\Temp\\ipykernel_22144\\2070419629.py:2: SettingWithCopyWarning: \n",
      "A value is trying to be set on a copy of a slice from a DataFrame.\n",
      "Try using .loc[row_indexer,col_indexer] = value instead\n",
      "\n",
      "See the caveats in the documentation: https://pandas.pydata.org/pandas-docs/stable/user_guide/indexing.html#returning-a-view-versus-a-copy\n",
      "  df['Time_Diff'] = df['UTCTime'].diff()\n"
     ]
    }
   ],
   "source": [
    "df['Distance'] = np.sqrt((df['Location.X'].diff())**2 + (df['Location.Y'].diff())**2)\n",
    "df['Time_Diff'] = df['UTCTime'].diff()\n",
    "\n",
    "df = df[df['Time_Diff'] != 0]\n",
    "\n",
    "df['Speed'] = df['Distance'] / df['Time_Diff']"
   ]
  },
  {
   "cell_type": "code",
   "execution_count": 14,
   "metadata": {},
   "outputs": [
    {
     "data": {
      "text/plain": [
       "player  Period\n",
       "1       1          9.579511\n",
       "        2         10.043208\n",
       "        3          9.238946\n",
       "2       1          7.992302\n",
       "        2          8.255342\n",
       "        3          8.803847\n",
       "3       1         11.094020\n",
       "4       1          8.437990\n",
       "        2          9.339405\n",
       "        3          9.967328\n",
       "Name: Speed, dtype: float64"
      ]
     },
     "execution_count": 14,
     "metadata": {},
     "output_type": "execute_result"
    }
   ],
   "source": [
    "avg_speed_by_player_by_period = df.groupby(['player', 'Period'])['Speed'].mean()\n",
    "avg_speed_by_player_by_period"
   ]
  },
  {
   "cell_type": "code",
   "execution_count": 15,
   "metadata": {},
   "outputs": [
    {
     "data": {
      "text/plain": [
       "player\n",
       "1    29.732041\n",
       "2    29.293297\n",
       "3    28.801122\n",
       "4    32.355998\n",
       "Name: Speed, dtype: float64"
      ]
     },
     "execution_count": 15,
     "metadata": {},
     "output_type": "execute_result"
    }
   ],
   "source": [
    "max_speed_by_player = df.groupby(['player'])['Speed'].max()\n",
    "max_speed_by_player"
   ]
  },
  {
   "cell_type": "code",
   "execution_count": 16,
   "metadata": {},
   "outputs": [],
   "source": [
    "df['TimeDiff'] = df['UTCTime'].diff()\n",
    "df['TimeDiff'] = df['TimeDiff'].astype(float)\n",
    "df['Acceleration'] = df['Speed'].diff() / df['TimeDiff']\n"
   ]
  },
  {
   "cell_type": "code",
   "execution_count": 17,
   "metadata": {},
   "outputs": [
    {
     "data": {
      "text/plain": [
       "player\n",
       "1    181.116831\n",
       "2    119.620708\n",
       "3    179.412292\n",
       "4    146.575149\n",
       "Name: Acceleration, dtype: float64"
      ]
     },
     "execution_count": 17,
     "metadata": {},
     "output_type": "execute_result"
    }
   ],
   "source": [
    "max_acceleration_by_player_by_period = df.groupby(['player'])['Acceleration'].max()\n",
    "max_acceleration_by_player_by_period "
   ]
  },
  {
   "cell_type": "code",
   "execution_count": 18,
   "metadata": {},
   "outputs": [
    {
     "data": {
      "text/plain": [
       "player\n",
       "1    11037.366480\n",
       "2    16342.214114\n",
       "3     3452.992908\n",
       "4    18678.007041\n",
       "Name: Distance, dtype: float64"
      ]
     },
     "execution_count": 18,
     "metadata": {},
     "output_type": "execute_result"
    }
   ],
   "source": [
    "total_distance_per_player = df.groupby('player')['Distance'].sum()\n",
    "total_distance_per_player"
   ]
  }
 ],
 "metadata": {
  "kernelspec": {
   "display_name": "conda_env_name",
   "language": "python",
   "name": "conda_env_name"
  },
  "language_info": {
   "codemirror_mode": {
    "name": "ipython",
    "version": 3
   },
   "file_extension": ".py",
   "mimetype": "text/x-python",
   "name": "python",
   "nbconvert_exporter": "python",
   "pygments_lexer": "ipython3",
   "version": "3.11.4"
  },
  "orig_nbformat": 4
 },
 "nbformat": 4,
 "nbformat_minor": 2
}
